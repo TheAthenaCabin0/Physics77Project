{
 "cells": [
  {
   "cell_type": "code",
   "execution_count": null,
   "id": "e89ef41f-6862-446a-8b11-ec0dd65f12ad",
   "metadata": {},
   "outputs": [],
   "source": [
    "import numpy as np\n",
    "import matplotlib.pyplot as plt\n",
    "import scipy as sci\n",
    "import astropy as astro"
   ]
  },
  {
   "cell_type": "markdown",
   "id": "b397d809-32c6-41db-8ae9-f19979592e85",
   "metadata": {
    "tags": []
   },
   "source": [
    "# Accretion Disk Setup"
   ]
  },
  {
   "cell_type": "markdown",
   "id": "ddb0f640-ae39-429b-8c98-f372a2b739b0",
   "metadata": {},
   "source": [
    "In this first portion of the notebook, we will be leading you through an example binary star system with an accretion disk. Eventually, we will allow you to modify the parameters on your own, but for now they will be locked to show an ideal system. "
   ]
  }
 ],
 "metadata": {
  "kernelspec": {
   "display_name": "Python 3 (ipykernel)",
   "language": "python",
   "name": "python3"
  },
  "language_info": {
   "codemirror_mode": {
    "name": "ipython",
    "version": 3
   },
   "file_extension": ".py",
   "mimetype": "text/x-python",
   "name": "python",
   "nbconvert_exporter": "python",
   "pygments_lexer": "ipython3",
   "version": "3.11.0"
  }
 },
 "nbformat": 4,
 "nbformat_minor": 5
}
