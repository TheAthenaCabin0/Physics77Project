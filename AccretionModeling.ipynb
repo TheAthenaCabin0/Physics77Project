{
 "cells": [
  {
   "cell_type": "markdown",
   "id": "b397d809-32c6-41db-8ae9-f19979592e85",
   "metadata": {
    "tags": []
   },
   "source": [
    "# Modeling an Accretion Disk - (Project Scrapped)\n",
    "Presentation and notebook by \n",
    "\n",
    "Elizabeth Kasner and Sofia Biagio"
   ]
  },
  {
   "cell_type": "markdown",
   "id": "b7edc011-aa31-466c-9108-248114253651",
   "metadata": {},
   "source": [
    "## Setup"
   ]
  },
  {
   "cell_type": "markdown",
   "id": "8ea235f0-7918-4665-bff0-e9607126a099",
   "metadata": {
    "tags": []
   },
   "source": [
    "### Part 1: A single molecule"
   ]
  },
  {
   "cell_type": "markdown",
   "id": "3fb40f80-20a7-42da-aa20-82de462e6605",
   "metadata": {},
   "source": [
    "Lets start by importing some basic libraries necessary for the math and modeling we will want to use."
   ]
  },
  {
   "cell_type": "code",
   "execution_count": 2,
   "id": "e89ef41f-6862-446a-8b11-ec0dd65f12ad",
   "metadata": {},
   "outputs": [],
   "source": [
    "import numpy as np\n",
    "import matplotlib.pyplot as plt\n",
    "import scipy as sci\n",
    "import astropy as astro"
   ]
  },
  {
   "cell_type": "markdown",
   "id": "36af36ad-0ed8-471c-ad8b-c748c2a7c45b",
   "metadata": {},
   "source": [
    "And now, the first true bit of code: \n",
    "\n",
    "A single particle, written out in the form of [ [ X pos, Y pos ] , [ X vel, Y vel ] ]"
   ]
  },
  {
   "cell_type": "code",
   "execution_count": 3,
   "id": "de309f12-1226-4a93-8832-c0550caad493",
   "metadata": {
    "tags": []
   },
   "outputs": [
    {
     "name": "stdout",
     "output_type": "stream",
     "text": [
      "[[[0 0]\n",
      "  [1 1]]]\n"
     ]
    }
   ],
   "source": [
    "particle = np.array([[[0,0],[1,1]]])\n",
    "print(particle)"
   ]
  },
  {
   "cell_type": "markdown",
   "id": "cadfe443-92d2-45c9-aab1-e2565c3d281f",
   "metadata": {},
   "source": [
    "And with the following function, we lay the groundwork of the whole project. A very simple movement function that moves an entire array of particles, one step at a timme."
   ]
  },
  {
   "cell_type": "code",
   "execution_count": 4,
   "id": "85afc8b5-d4ad-45cc-949d-3cecab6e1b87",
   "metadata": {
    "tags": []
   },
   "outputs": [
    {
     "name": "stdout",
     "output_type": "stream",
     "text": [
      "[[[1 1]\n",
      "  [1 1]]]\n"
     ]
    }
   ],
   "source": [
    "def movement(particles, nIter=1):\n",
    "    for n in range(nIter):\n",
    "        for i in range(len(particles)):\n",
    "            particles[i][0] += particles[i][1]\n",
    "    return particles\n",
    "print(movement(particle))"
   ]
  },
  {
   "cell_type": "markdown",
   "id": "20b40287-628e-4727-b496-7d6123007421",
   "metadata": {},
   "source": [
    "One quick note about the above function - It builds upon previous changes to the particle array. \n",
    "\n",
    "For the next function, we will be making a gravity function that "
   ]
  },
  {
   "cell_type": "markdown",
   "id": "98403f48-d399-45aa-bc1a-a3188ef274bc",
   "metadata": {},
   "source": [
    "### Part 2: Scaling Up"
   ]
  },
  {
   "cell_type": "markdown",
   "id": "ddb0f640-ae39-429b-8c98-f372a2b739b0",
   "metadata": {},
   "source": [
    "In this second portion of the demonstration, we will utilise the same simple functions created last time, but with continuously larger sets of particles. \n",
    "\n",
    "Eventually, we will allow you to modify the parameters on your own, but for now they will be locked to demonstrate the methodology. "
   ]
  },
  {
   "cell_type": "markdown",
   "id": "9255100f-0757-4e60-ba0f-7cff4c44f330",
   "metadata": {
    "tags": []
   },
   "source": [
    "## Animation of the System, sans Stars"
   ]
  },
  {
   "cell_type": "markdown",
   "id": "c2b26f7c-8dd3-4060-a69d-5cde52febd76",
   "metadata": {},
   "source": [
    "### Part 3: One small step, so many times"
   ]
  },
  {
   "cell_type": "markdown",
   "id": "af413024-6413-464e-a501-16a69ee75f98",
   "metadata": {},
   "source": [
    "Moving a single particle a whole bunch (Animated)"
   ]
  },
  {
   "cell_type": "markdown",
   "id": "4957e8af-00f4-4e05-9f1a-24e12298ea1e",
   "metadata": {},
   "source": [
    "### Part 4: A Hundred Small Steps for A Gas Cloud"
   ]
  },
  {
   "cell_type": "markdown",
   "id": "a2b4dd5e-5871-4bd7-bb0f-a9458a0da3d6",
   "metadata": {},
   "source": [
    "Moving an entire gas cloud one step (Animated)"
   ]
  },
  {
   "cell_type": "markdown",
   "id": "9b7abcf1-c1dc-43f1-b630-bc15fa59a2d9",
   "metadata": {},
   "source": [
    "### Part 5: Double Double, Toil and Trouble"
   ]
  },
  {
   "cell_type": "markdown",
   "id": "b9274317-993c-4726-b1a9-7f507155b835",
   "metadata": {},
   "source": [
    "Combine the two methods, and wham! We have a gas cloud moving around!"
   ]
  },
  {
   "cell_type": "markdown",
   "id": "e19b1802-6759-4537-8a0e-95bae7f9a8d4",
   "metadata": {},
   "source": [
    "However, still no stars for the gas cloud to orbit around! Time to rectify that"
   ]
  },
  {
   "cell_type": "markdown",
   "id": "da1ef43e-105d-459e-81a3-6028cc9d2501",
   "metadata": {},
   "source": [
    "## Adding in Celestial Mechanics"
   ]
  },
  {
   "cell_type": "markdown",
   "id": "6d1f410f-1e37-4aae-be66-c33830cbe5ba",
   "metadata": {},
   "source": [
    "### Part 6: There's Stars in Them There Hills"
   ]
  },
  {
   "cell_type": "markdown",
   "id": "627881a0-bc57-4db1-b289-167533e8a0cf",
   "metadata": {},
   "source": [
    "We make some stars as just circles, not bothering to model their orbit around each other. \n",
    "\n",
    "Make sure to build it all off of the mass of the star, that is the radius and gravitational pull."
   ]
  },
  {
   "cell_type": "markdown",
   "id": "5e903313-a4e0-40a3-8bd8-24c4d6a6d423",
   "metadata": {},
   "source": [
    "## Bringing it all together!"
   ]
  },
  {
   "cell_type": "markdown",
   "id": "e19d2977-6f40-473d-a8f4-30e36e708ec2",
   "metadata": {},
   "source": [
    "### Part 7: Generating the Gas Cloud and Setting Constants"
   ]
  },
  {
   "cell_type": "markdown",
   "id": "441c3e57-789c-4fb9-9df8-e18c7b2f13dd",
   "metadata": {},
   "source": [
    "Wherein we do no animation, but we generate randomly the entire gas cloud and set up our values of all constants that we want to allow to change"
   ]
  },
  {
   "cell_type": "markdown",
   "id": "c3adb211-c658-4788-b593-3c6d3ef09ebc",
   "metadata": {},
   "source": [
    "### Part 8: Final Animation"
   ]
  },
  {
   "cell_type": "markdown",
   "id": "6345e3d3-f7d0-4a1b-bf57-51ebd942bcd4",
   "metadata": {},
   "source": [
    "Just the complete animation!"
   ]
  },
  {
   "cell_type": "markdown",
   "id": "eb03ce38-3b1f-4abb-ba99-c960383e8562",
   "metadata": {},
   "source": [
    "# Now its Your Turn"
   ]
  },
  {
   "cell_type": "markdown",
   "id": "34c64e3f-21e2-4ff4-a829-280efe8f79bd",
   "metadata": {},
   "source": [
    "Copy over all relevant animation code from the last part, and have a block of code encouraging people to set values (within any desired range) for their system."
   ]
  }
 ],
 "metadata": {
  "kernelspec": {
   "display_name": "Python 3 (ipykernel)",
   "language": "python",
   "name": "python3"
  },
  "language_info": {
   "codemirror_mode": {
    "name": "ipython",
    "version": 3
   },
   "file_extension": ".py",
   "mimetype": "text/x-python",
   "name": "python",
   "nbconvert_exporter": "python",
   "pygments_lexer": "ipython3",
   "version": "3.11.0"
  }
 },
 "nbformat": 4,
 "nbformat_minor": 5
}
