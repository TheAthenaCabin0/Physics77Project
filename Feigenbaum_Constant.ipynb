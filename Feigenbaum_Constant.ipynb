{
 "cells": [
  {
   "cell_type": "markdown",
   "id": "acd26a17-23d4-42f6-94cf-4712effe7932",
   "metadata": {},
   "source": [
    "# Chaos Modeling and the Feigenbaum Constant\n",
    "A presentation and notebook by Elizabeth Kasner"
   ]
  }
 ],
 "metadata": {
  "kernelspec": {
   "display_name": "Python 3 (ipykernel)",
   "language": "python",
   "name": "python3"
  },
  "language_info": {
   "codemirror_mode": {
    "name": "ipython",
    "version": 3
   },
   "file_extension": ".py",
   "mimetype": "text/x-python",
   "name": "python",
   "nbconvert_exporter": "python",
   "pygments_lexer": "ipython3",
   "version": "3.11.0"
  }
 },
 "nbformat": 4,
 "nbformat_minor": 5
}
